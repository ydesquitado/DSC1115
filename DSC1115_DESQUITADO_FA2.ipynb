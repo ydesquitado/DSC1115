{
  "cells": [
    {
      "cell_type": "markdown",
      "metadata": {
        "id": "view-in-github",
        "colab_type": "text"
      },
      "source": [
        "<a href=\"https://colab.research.google.com/github/ydesquitado/DSC1115/blob/main/DSC1115_DESQUITADO_FA2.ipynb\" target=\"_parent\"><img src=\"https://colab.research.google.com/assets/colab-badge.svg\" alt=\"Open In Colab\"/></a>"
      ]
    },
    {
      "cell_type": "markdown",
      "source": [
        "# **DSC1115 Predictive Analytics - Formative Assessment 2**\n",
        "## **2021025081 DESQUITADO, Yuichi P.**\n",
        "\n",
        "### Task 2 - Image Classification with CNNs\n",
        "### Dataset: CIFAR-10Links to an external site. (or use a smaller subset from Kaggle or TensorFlow Datasets).\n",
        "### **Goal: *Classify images into 10 categories.***\n",
        "\n",
        "**Steps:**\n",
        "* Load and preprocess dataset (resize, normalize).\n",
        "* Build a CNN with 2-3 convolutional layers, pooling, and dropout.\n",
        "* Train the model and compare performance with and without transfer learning (e.g., using MobileNet or ResNet).\n",
        "* Report accuracy and confusion matrix.\n",
        "\n",
        "**Deliverables:**\n",
        "* Python notebooks (.ipynb) with code and markdown explanations.\n",
        "* Brief report comparing MLP vs. CNN models, and the effect of transfer learning."
      ],
      "metadata": {
        "id": "VEKUyAr4ySGO"
      }
    },
    {
      "cell_type": "markdown",
      "metadata": {
        "id": "Bzfc9WNrL2CV"
      },
      "source": [
        "# **Without Transfer Learning**"
      ]
    },
    {
      "cell_type": "code",
      "execution_count": null,
      "metadata": {
        "id": "mVAvwBBg04Hy"
      },
      "outputs": [],
      "source": [
        "import pandas as pd\n",
        "import numpy as np\n",
        "import tensorflow as tf\n",
        "from tensorflow.keras.datasets import cifar10\n",
        "from tensorflow.keras.models import Sequential\n",
        "from tensorflow.keras.layers import Conv2D, MaxPooling2D, Flatten, Dense, Dropout\n",
        "from sklearn.metrics import confusion_matrix\n",
        "import seaborn as sns\n",
        "import matplotlib.pyplot as plt\n",
        "\n",
        "(X_train, y_train), (X_test, y_test) = cifar10.load_data()            # Loads the dataset into the program\n",
        "\n",
        "X_train, X_test = X_train / 255.0, X_test / 255.0                     # Normalizes the data\n",
        "\n",
        "y_train = tf.keras.utils.to_categorical(y_train, num_classes = 10)    # Converts the target values to categorical\n",
        "y_test = tf.keras.utils.to_categorical(y_test, num_classes = 10)"
      ]
    },
    {
      "cell_type": "code",
      "execution_count": null,
      "metadata": {
        "id": "SLwj8FsbAVTg"
      },
      "outputs": [],
      "source": [
        "modelCNN = Sequential([\n",
        "    Conv2D(32, (3, 3), activation = 'relu', input_shape = (32, 32, 3)),\n",
        "    MaxPooling2D((2, 2)),\n",
        "    Conv2D(64, (3, 3), activation = 'relu'),\n",
        "    MaxPooling2D((2, 2)),\n",
        "    Conv2D(128, (3, 3), activation = 'relu'),\n",
        "    MaxPooling2D((2, 2)),\n",
        "    Flatten(),\n",
        "    Dropout(0.5),\n",
        "    Dense(10, activation = 'softmax'),\n",
        "])\n",
        "\n",
        "modelCNN.compile(optimizer = 'adam', loss = 'categorical_crossentropy', metrics = ['accuracy'])\n",
        "\n",
        "modelCNN.fit(X_train, y_train, epochs = 10, batch_size = 64, validation_data = (X_test, y_test))"
      ]
    },
    {
      "cell_type": "code",
      "execution_count": null,
      "metadata": {
        "id": "9MXevqN_Bb2c"
      },
      "outputs": [],
      "source": [
        "modelMLP = Sequential([\n",
        "    Flatten(input_shape = (32, 32, 3)),\n",
        "    Dense(512, activation = 'relu'),\n",
        "    Dropout(0.5),\n",
        "    Dense(256, activation = 'relu'),\n",
        "    Dense(10, activation = 'softmax')\n",
        "])\n",
        "\n",
        "modelMLP.compile(optimizer = 'adam', loss = 'categorical_crossentropy', metrics = ['accuracy'])\n",
        "\n",
        "modelMLP.fit(X_train, y_train, epochs = 10, batch_size = 64, validation_data = (X_test, y_test))"
      ]
    },
    {
      "cell_type": "code",
      "execution_count": null,
      "metadata": {
        "id": "_D2RDql_LMsU"
      },
      "outputs": [],
      "source": [
        "print(\"CNN Accuracy:\", modelCNN.evaluate(X_test, y_test)[1])\n",
        "print(\"MLP Accuracy:\", modelMLP.evaluate(X_test, y_test)[1])"
      ]
    },
    {
      "cell_type": "code",
      "execution_count": null,
      "metadata": {
        "id": "6eblVBE8BxP7"
      },
      "outputs": [],
      "source": [
        "y_pred_cnn = np.argmax(modelCNN.predict(X_test), axis=1)\n",
        "y_true = np.argmax(y_test, axis=1)\n",
        "\n",
        "conf_matrix = confusion_matrix(y_true, y_pred_cnn)\n",
        "\n",
        "plt.figure(figsize = (10, 8))\n",
        "sns.heatmap(conf_matrix,\n",
        "            annot = True, fmt = \"d\", cmap = \"Blues\")\n",
        "plt.xlabel(\"Predicted\")\n",
        "plt.ylabel(\"Actual\")\n",
        "plt.title(\"Confusion Matrix - CNN\")\n",
        "plt.show()"
      ]
    },
    {
      "cell_type": "code",
      "execution_count": null,
      "metadata": {
        "id": "nNalxs8dK5gz"
      },
      "outputs": [],
      "source": [
        "y_pred_mlp = np.argmax(modelMLP.predict(X_test), axis=1)\n",
        "y_true = np.argmax(y_test, axis=1)\n",
        "\n",
        "conf_matrix = confusion_matrix(y_true, y_pred_mlp)\n",
        "\n",
        "plt.figure(figsize = (10, 8))\n",
        "sns.heatmap(conf_matrix,\n",
        "            annot = True, fmt = \"d\", cmap = \"Blues\")\n",
        "plt.xlabel(\"Predicted\")\n",
        "plt.ylabel(\"Actual\")\n",
        "plt.title(\"Confusion Matrix - MLP\")\n",
        "plt.show()"
      ]
    },
    {
      "cell_type": "markdown",
      "metadata": {
        "id": "Znvqg0mtLxlD"
      },
      "source": [
        "# **With Transfer Learning**"
      ]
    },
    {
      "cell_type": "code",
      "execution_count": null,
      "metadata": {
        "colab": {
          "background_save": true
        },
        "id": "kaeqZniZLxMW"
      },
      "outputs": [],
      "source": [
        "from tensorflow.keras.applications import VGG16\n",
        "from tensorflow.keras.optimizers import Adam\n",
        "\n",
        "modelBase = VGG16(weights = 'imagenet',\n",
        "                  include_top = False,\n",
        "                  input_shape = (32, 32, 3))      # The base model used for Transfer Learning\n",
        "\n",
        "for layer in modelBase.layers:\n",
        "    layer.trainable = False\n",
        "\n",
        "modelCNNTL = Sequential([\n",
        "    modelBase,\n",
        "    Flatten(),\n",
        "    Dense(256, activation = 'relu'),\n",
        "    Dropout(0.5),\n",
        "    Dense(10, activation = 'softmax')\n",
        "])\n",
        "\n",
        "modelCNNTL.compile(optimizer = Adam(learning_rate = 0.0001),\n",
        "                   loss = 'categorical_crossentropy',\n",
        "                   metrics = ['accuracy'])\n",
        "modelCNNTL.fit(X_train, y_train, epochs = 10, batch_size = 64, validation_data = (X_test, y_test))"
      ]
    },
    {
      "cell_type": "code",
      "execution_count": null,
      "metadata": {
        "id": "VKyYYd_zMql1"
      },
      "outputs": [],
      "source": [
        "print(\"CNN with Transfer Learning Accuracy:\", modelCNNTL.evaluate(X_test, y_test)[1])"
      ]
    },
    {
      "cell_type": "code",
      "execution_count": null,
      "metadata": {
        "id": "W1UP_jlaM6M0"
      },
      "outputs": [],
      "source": [
        "y_pred_cnn_tl = np.argmax(modelCNNTL.predict(X_test), axis=1)\n",
        "y_true = np.argmax(y_test, axis=1)\n",
        "\n",
        "conf_matrix = confusion_matrix(y_true, y_pred_cnn_tl)\n",
        "\n",
        "plt.figure(figsize = (10, 8))\n",
        "sns.heatmap(conf_matrix,\n",
        "            annot = True, fmt = \"d\", cmap = \"Blues\")\n",
        "plt.xlabel(\"Predicted\")\n",
        "plt.ylabel(\"Actual\")\n",
        "plt.title(\"Confusion Matrix - CNN with Transfer Learning\")\n",
        "plt.show()"
      ]
    },
    {
      "cell_type": "code",
      "source": [
        "predicted = {\n",
        "    'True' : y_true,\n",
        "    'CNN' : y_pred_cnn,\n",
        "    'MLP' : y_pred_mlp,\n",
        "    'CNN TL' : y_pred_cnn_tl\n",
        "}\n",
        "\n",
        "predictedDF = pd.DataFrame(predicted)\n",
        "predictedDF.head(20)"
      ],
      "metadata": {
        "id": "AlLKcIXSzkj9"
      },
      "execution_count": null,
      "outputs": []
    },
    {
      "cell_type": "code",
      "source": [],
      "metadata": {
        "id": "cU1PJAEUzjqx"
      },
      "execution_count": null,
      "outputs": []
    }
  ],
  "metadata": {
    "colab": {
      "provenance": [],
      "authorship_tag": "ABX9TyNBlWHtK4d5rooA+351v5re",
      "include_colab_link": true
    },
    "kernelspec": {
      "display_name": "Python 3",
      "name": "python3"
    },
    "language_info": {
      "name": "python"
    }
  },
  "nbformat": 4,
  "nbformat_minor": 0
}