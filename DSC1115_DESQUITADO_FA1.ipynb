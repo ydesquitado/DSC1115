{
  "nbformat": 4,
  "nbformat_minor": 0,
  "metadata": {
    "colab": {
      "provenance": []
    },
    "kernelspec": {
      "name": "python3",
      "display_name": "Python 3"
    },
    "language_info": {
      "name": "python"
    }
  },
  "cells": [
    {
      "cell_type": "markdown",
      "source": [
        "# **DSC1115 Predictive Analytics - Formative Assessment 1**\n",
        "## **2021025081 DESQUITADO, Yuichi P.**\n",
        "\n",
        "### Task 1 - Feedforward Neural Network on Tabular Data  \n",
        "### Dataset: UCI Heart Disease Dataset\n",
        "### **Goal: *Predict presence of heart disease.***\n",
        "\n",
        "**Steps:**\n",
        "* Preprocess the data (normalization, encoding categorical variables).  \n",
        "* Build a simple MLP using TensorFlow or PyTorch.  \n",
        "* Use activation functions (ReLU, sigmoid) and experiment with hidden layers.  \n",
        "* Implement backpropagation and use a suitable loss function (e.g., binary cross-entropy).  \n",
        "* Evaluate with accuracy, precision, recall.\n",
        "\n",
        "**Deliverables:**  \n",
        "* Python notebooks (.ipynb) with code and markdown explanations.  \n",
        "* Brief report comparing MLP vs. CNN models, and the effect of transfer learning."
      ],
      "metadata": {
        "id": "Slp9DtrKP1iE"
      }
    },
    {
      "cell_type": "code",
      "source": [
        "!pip install ucimlrepo      # pip install used to download the dataset needed for the project"
      ],
      "metadata": {
        "colab": {
          "base_uri": "https://localhost:8080/"
        },
        "id": "OnUDjgCOAsyF",
        "outputId": "e2d0c9e5-e77e-43a7-e5d2-729e95834e3f"
      },
      "execution_count": 175,
      "outputs": [
        {
          "output_type": "stream",
          "name": "stdout",
          "text": [
            "Requirement already satisfied: ucimlrepo in /usr/local/lib/python3.11/dist-packages (0.0.7)\n",
            "Requirement already satisfied: pandas>=1.0.0 in /usr/local/lib/python3.11/dist-packages (from ucimlrepo) (2.2.2)\n",
            "Requirement already satisfied: certifi>=2020.12.5 in /usr/local/lib/python3.11/dist-packages (from ucimlrepo) (2025.4.26)\n",
            "Requirement already satisfied: numpy>=1.23.2 in /usr/local/lib/python3.11/dist-packages (from pandas>=1.0.0->ucimlrepo) (2.0.2)\n",
            "Requirement already satisfied: python-dateutil>=2.8.2 in /usr/local/lib/python3.11/dist-packages (from pandas>=1.0.0->ucimlrepo) (2.9.0.post0)\n",
            "Requirement already satisfied: pytz>=2020.1 in /usr/local/lib/python3.11/dist-packages (from pandas>=1.0.0->ucimlrepo) (2025.2)\n",
            "Requirement already satisfied: tzdata>=2022.7 in /usr/local/lib/python3.11/dist-packages (from pandas>=1.0.0->ucimlrepo) (2025.2)\n",
            "Requirement already satisfied: six>=1.5 in /usr/local/lib/python3.11/dist-packages (from python-dateutil>=2.8.2->pandas>=1.0.0->ucimlrepo) (1.17.0)\n"
          ]
        }
      ]
    },
    {
      "cell_type": "markdown",
      "source": [
        "# **Initialization**  \n",
        "\n",
        "The following modules are imported to the project.  \n",
        "* **pandas** - For dataframe  \n",
        "* **numpy** - Linear algebra  \n",
        "* **matplotlib** - Visual plotting  \n",
        "* **tensorflow** - Model  \n",
        "* **sklearn** - Metrics, Train-Test Split, Regularization  \n",
        "* **ucimlrepo** - Dataset from UCI Heart Disease Dataset  "
      ],
      "metadata": {
        "id": "IRpBMD-4RE-S"
      }
    },
    {
      "cell_type": "code",
      "execution_count": 176,
      "metadata": {
        "id": "_752fVlD9Qvl"
      },
      "outputs": [],
      "source": [
        "import pandas as pd\n",
        "import numpy as np\n",
        "import matplotlib.pyplot as plt\n",
        "import tensorflow as tf\n",
        "from tensorflow import keras\n",
        "from tensorflow.keras.optimizers import Adam\n",
        "from keras.src.metrics.confusion_metrics import Precision, Recall\n",
        "from sklearn.model_selection import train_test_split\n",
        "from sklearn.preprocessing import StandardScaler\n",
        "from sklearn.metrics import accuracy_score, precision_score, recall_score\n",
        "from ucimlrepo import fetch_ucirepo\n",
        "\n",
        "data = fetch_ucirepo(id = 45)\n",
        "df = pd.DataFrame(data.data.features)\n",
        "df['target'] = data.data.targets"
      ]
    },
    {
      "cell_type": "markdown",
      "source": [
        "## **Data Cleaning**\n",
        "\n",
        "Replaces the `?` value of the dataset to a `NaN` value, then drop the `NaN` values. This also formats the data format into `float`."
      ],
      "metadata": {
        "id": "i2do98p3Rv5O"
      }
    },
    {
      "cell_type": "code",
      "source": [
        "df.replace('?',\n",
        "           np.nan,\n",
        "           inplace = True)\n",
        "df.dropna(inplace = True)\n",
        "df = df.astype(float)"
      ],
      "metadata": {
        "id": "68391Vb-KhOh"
      },
      "execution_count": 177,
      "outputs": []
    },
    {
      "cell_type": "markdown",
      "source": [
        "## **Data Splitting**\n",
        "\n",
        "Splits the data to `X` (features) and `Y` (target)."
      ],
      "metadata": {
        "id": "CMOWiXHCSEUl"
      }
    },
    {
      "cell_type": "code",
      "source": [
        "X = df.drop('target', axis = 1)\n",
        "Y = df['target']"
      ],
      "metadata": {
        "id": "hdOrx1YJKnPu"
      },
      "execution_count": 178,
      "outputs": []
    },
    {
      "cell_type": "markdown",
      "source": [
        "## **Data Normalization and Standardization**\n",
        "\n",
        "Normalizes the values of `X` before splitting for `train` and `test`. For this project, we used $20\\%$ of the data as `test`."
      ],
      "metadata": {
        "id": "bZpQxgCdSM3-"
      }
    },
    {
      "cell_type": "code",
      "source": [
        "sc = StandardScaler()\n",
        "X = sc.fit_transform(X)\n",
        "\n",
        "X_train, X_test, Y_train, Y_test = train_test_split(X,\n",
        "                                                    Y,\n",
        "                                                    test_size = 0.2,\n",
        "                                                    random_state = 22)"
      ],
      "metadata": {
        "id": "gd5JulrMDx8Z"
      },
      "execution_count": 179,
      "outputs": []
    },
    {
      "cell_type": "markdown",
      "source": [
        "# **Model Building**\n",
        "\n",
        "This part builds the Tensorflow model using `keras`'s `Sequential()`.\n",
        "\n",
        "* Input Layer = 16 units, ReLU as activation  \n",
        "* Hidden Layer 1 = 64 units, ReLU as activation\n",
        "* Hidden Layer 2 = 32 units, Swish as activation\n",
        "* Output Layer = 1 unit, Sigmoid as activiation"
      ],
      "metadata": {
        "id": "EktlJ9brSlcF"
      }
    },
    {
      "cell_type": "code",
      "source": [
        "model = keras.Sequential([\n",
        "    keras.layers.Dense(16,\n",
        "                       input_shape = (X_train.shape[1],),\n",
        "                       activation = 'relu'),\n",
        "    keras.layers.Dense(64,\n",
        "                       activation = 'relu'),\n",
        "    keras.layers.Dense(32,\n",
        "                       activation = 'swish'),\n",
        "    keras.layers.Dense(1,\n",
        "                       activation = 'sigmoid')\n",
        "])"
      ],
      "metadata": {
        "colab": {
          "base_uri": "https://localhost:8080/"
        },
        "id": "TeTDyJCOEbxl",
        "outputId": "87d775a4-8cb4-433d-dc0a-1eca585b895d"
      },
      "execution_count": 180,
      "outputs": [
        {
          "output_type": "stream",
          "name": "stderr",
          "text": [
            "/usr/local/lib/python3.11/dist-packages/keras/src/layers/core/dense.py:87: UserWarning: Do not pass an `input_shape`/`input_dim` argument to a layer. When using Sequential models, prefer using an `Input(shape)` object as the first layer in the model instead.\n",
            "  super().__init__(activity_regularizer=activity_regularizer, **kwargs)\n"
          ]
        }
      ]
    },
    {
      "cell_type": "markdown",
      "source": [
        "For the compiling, we used `binary cross-entropy` for loss function, while `accuracy`, `precision`, and `recall` as metrics."
      ],
      "metadata": {
        "id": "_5O9rZ0RTYqZ"
      }
    },
    {
      "cell_type": "code",
      "source": [
        "model.compile(optimizer = 'adam',\n",
        "              loss = 'binary_crossentropy',\n",
        "              metrics = ['accuracy', Precision(), Recall()])"
      ],
      "metadata": {
        "id": "oqk46gohE3lS"
      },
      "execution_count": 181,
      "outputs": []
    },
    {
      "cell_type": "markdown",
      "source": [
        "This part fits the `train` data and checks it with the `test` data, while showing the necessary details of metrics and predicted value's metrics."
      ],
      "metadata": {
        "id": "AEtMu125WBS_"
      }
    },
    {
      "cell_type": "code",
      "source": [
        "history = model.fit(X_train,\n",
        "                    Y_train,\n",
        "                    epochs = 50,\n",
        "                    batch_size = 16,\n",
        "                    validation_data = (X_test,\n",
        "                                       Y_test))"
      ],
      "metadata": {
        "colab": {
          "base_uri": "https://localhost:8080/"
        },
        "collapsed": true,
        "id": "-LZOO3UPEr9D",
        "outputId": "16004008-000d-41f6-8dad-6edbf42ab85a"
      },
      "execution_count": 182,
      "outputs": [
        {
          "output_type": "stream",
          "name": "stdout",
          "text": [
            "Epoch 1/50\n",
            "\u001b[1m15/15\u001b[0m \u001b[32m━━━━━━━━━━━━━━━━━━━━\u001b[0m\u001b[37m\u001b[0m \u001b[1m5s\u001b[0m 84ms/step - accuracy: 0.2144 - loss: 0.3648 - precision_10: 0.4900 - recall_9: 0.9873 - val_accuracy: 0.1667 - val_loss: 0.2884 - val_precision_10: 0.4000 - val_recall_9: 1.0000\n",
            "Epoch 2/50\n",
            "\u001b[1m15/15\u001b[0m \u001b[32m━━━━━━━━━━━━━━━━━━━━\u001b[0m\u001b[37m\u001b[0m \u001b[1m2s\u001b[0m 26ms/step - accuracy: 0.1761 - loss: -0.1476 - precision_10: 0.4947 - recall_9: 1.0000 - val_accuracy: 0.1667 - val_loss: -0.0572 - val_precision_10: 0.4000 - val_recall_9: 1.0000\n",
            "Epoch 3/50\n",
            "\u001b[1m15/15\u001b[0m \u001b[32m━━━━━━━━━━━━━━━━━━━━\u001b[0m\u001b[37m\u001b[0m \u001b[1m1s\u001b[0m 24ms/step - accuracy: 0.1600 - loss: -0.5956 - precision_10: 0.4406 - recall_9: 1.0000 - val_accuracy: 0.1667 - val_loss: -0.6028 - val_precision_10: 0.4000 - val_recall_9: 1.0000\n",
            "Epoch 4/50\n",
            "\u001b[1m15/15\u001b[0m \u001b[32m━━━━━━━━━━━━━━━━━━━━\u001b[0m\u001b[37m\u001b[0m \u001b[1m1s\u001b[0m 38ms/step - accuracy: 0.2181 - loss: -1.6959 - precision_10: 0.4999 - recall_9: 1.0000 - val_accuracy: 0.1667 - val_loss: -1.6556 - val_precision_10: 0.4000 - val_recall_9: 1.0000\n",
            "Epoch 5/50\n",
            "\u001b[1m15/15\u001b[0m \u001b[32m━━━━━━━━━━━━━━━━━━━━\u001b[0m\u001b[37m\u001b[0m \u001b[1m1s\u001b[0m 60ms/step - accuracy: 0.1891 - loss: -3.8541 - precision_10: 0.5047 - recall_9: 1.0000 - val_accuracy: 0.1667 - val_loss: -3.5749 - val_precision_10: 0.4000 - val_recall_9: 1.0000\n",
            "Epoch 6/50\n",
            "\u001b[1m15/15\u001b[0m \u001b[32m━━━━━━━━━━━━━━━━━━━━\u001b[0m\u001b[37m\u001b[0m \u001b[1m1s\u001b[0m 65ms/step - accuracy: 0.1656 - loss: -6.6293 - precision_10: 0.4484 - recall_9: 1.0000 - val_accuracy: 0.1833 - val_loss: -6.8457 - val_precision_10: 0.4068 - val_recall_9: 1.0000\n",
            "Epoch 7/50\n",
            "\u001b[1m15/15\u001b[0m \u001b[32m━━━━━━━━━━━━━━━━━━━━\u001b[0m\u001b[37m\u001b[0m \u001b[1m1s\u001b[0m 42ms/step - accuracy: 0.2158 - loss: -13.2527 - precision_10: 0.4998 - recall_9: 1.0000 - val_accuracy: 0.3333 - val_loss: -12.7882 - val_precision_10: 0.4800 - val_recall_9: 1.0000\n",
            "Epoch 8/50\n",
            "\u001b[1m15/15\u001b[0m \u001b[32m━━━━━━━━━━━━━━━━━━━━\u001b[0m\u001b[37m\u001b[0m \u001b[1m1s\u001b[0m 29ms/step - accuracy: 0.3182 - loss: -24.5658 - precision_10: 0.6035 - recall_9: 0.9825 - val_accuracy: 0.3833 - val_loss: -21.9902 - val_precision_10: 0.5111 - val_recall_9: 0.9583\n",
            "Epoch 9/50\n",
            "\u001b[1m15/15\u001b[0m \u001b[32m━━━━━━━━━━━━━━━━━━━━\u001b[0m\u001b[37m\u001b[0m \u001b[1m1s\u001b[0m 34ms/step - accuracy: 0.3506 - loss: -30.7806 - precision_10: 0.5514 - recall_9: 0.9814 - val_accuracy: 0.4500 - val_loss: -36.3140 - val_precision_10: 0.5610 - val_recall_9: 0.9583\n",
            "Epoch 10/50\n",
            "\u001b[1m15/15\u001b[0m \u001b[32m━━━━━━━━━━━━━━━━━━━━\u001b[0m\u001b[37m\u001b[0m \u001b[1m1s\u001b[0m 40ms/step - accuracy: 0.4115 - loss: -66.4032 - precision_10: 0.6139 - recall_9: 0.9815 - val_accuracy: 0.4500 - val_loss: -60.9115 - val_precision_10: 0.5610 - val_recall_9: 0.9583\n",
            "Epoch 11/50\n",
            "\u001b[1m15/15\u001b[0m \u001b[32m━━━━━━━━━━━━━━━━━━━━\u001b[0m\u001b[37m\u001b[0m \u001b[1m1s\u001b[0m 37ms/step - accuracy: 0.4209 - loss: -94.5013 - precision_10: 0.6064 - recall_9: 0.9891 - val_accuracy: 0.4667 - val_loss: -95.0078 - val_precision_10: 0.5750 - val_recall_9: 0.9583\n",
            "Epoch 12/50\n",
            "\u001b[1m15/15\u001b[0m \u001b[32m━━━━━━━━━━━━━━━━━━━━\u001b[0m\u001b[37m\u001b[0m \u001b[1m1s\u001b[0m 39ms/step - accuracy: 0.4065 - loss: -162.2796 - precision_10: 0.6222 - recall_9: 0.9614 - val_accuracy: 0.4667 - val_loss: -148.7873 - val_precision_10: 0.5750 - val_recall_9: 0.9583\n",
            "Epoch 13/50\n",
            "\u001b[1m15/15\u001b[0m \u001b[32m━━━━━━━━━━━━━━━━━━━━\u001b[0m\u001b[37m\u001b[0m \u001b[1m1s\u001b[0m 25ms/step - accuracy: 0.4148 - loss: -217.8508 - precision_10: 0.6147 - recall_9: 0.9782 - val_accuracy: 0.4500 - val_loss: -219.8567 - val_precision_10: 0.5641 - val_recall_9: 0.9167\n",
            "Epoch 14/50\n",
            "\u001b[1m15/15\u001b[0m \u001b[32m━━━━━━━━━━━━━━━━━━━━\u001b[0m\u001b[37m\u001b[0m \u001b[1m1s\u001b[0m 31ms/step - accuracy: 0.4661 - loss: -351.5259 - precision_10: 0.6840 - recall_9: 0.9683 - val_accuracy: 0.4500 - val_loss: -315.1635 - val_precision_10: 0.5641 - val_recall_9: 0.9167\n",
            "Epoch 15/50\n",
            "\u001b[1m15/15\u001b[0m \u001b[32m━━━━━━━━━━━━━━━━━━━━\u001b[0m\u001b[37m\u001b[0m \u001b[1m0s\u001b[0m 24ms/step - accuracy: 0.5020 - loss: -373.7511 - precision_10: 0.6324 - recall_9: 0.9721 - val_accuracy: 0.4667 - val_loss: -440.3849 - val_precision_10: 0.5789 - val_recall_9: 0.9167\n",
            "Epoch 16/50\n",
            "\u001b[1m15/15\u001b[0m \u001b[32m━━━━━━━━━━━━━━━━━━━━\u001b[0m\u001b[37m\u001b[0m \u001b[1m0s\u001b[0m 29ms/step - accuracy: 0.4166 - loss: -754.0171 - precision_10: 0.6624 - recall_9: 0.9666 - val_accuracy: 0.4667 - val_loss: -601.5278 - val_precision_10: 0.5789 - val_recall_9: 0.9167\n",
            "Epoch 17/50\n",
            "\u001b[1m15/15\u001b[0m \u001b[32m━━━━━━━━━━━━━━━━━━━━\u001b[0m\u001b[37m\u001b[0m \u001b[1m1s\u001b[0m 30ms/step - accuracy: 0.4411 - loss: -981.8571 - precision_10: 0.6867 - recall_9: 0.9428 - val_accuracy: 0.4667 - val_loss: -799.2005 - val_precision_10: 0.5789 - val_recall_9: 0.9167\n",
            "Epoch 18/50\n",
            "\u001b[1m15/15\u001b[0m \u001b[32m━━━━━━━━━━━━━━━━━━━━\u001b[0m\u001b[37m\u001b[0m \u001b[1m1s\u001b[0m 30ms/step - accuracy: 0.4366 - loss: -1488.0016 - precision_10: 0.6663 - recall_9: 0.9195 - val_accuracy: 0.5000 - val_loss: -1049.7740 - val_precision_10: 0.6111 - val_recall_9: 0.9167\n",
            "Epoch 19/50\n",
            "\u001b[1m15/15\u001b[0m \u001b[32m━━━━━━━━━━━━━━━━━━━━\u001b[0m\u001b[37m\u001b[0m \u001b[1m1s\u001b[0m 29ms/step - accuracy: 0.4879 - loss: -1481.4500 - precision_10: 0.6554 - recall_9: 0.9234 - val_accuracy: 0.4833 - val_loss: -1342.4094 - val_precision_10: 0.6000 - val_recall_9: 0.8750\n",
            "Epoch 20/50\n",
            "\u001b[1m15/15\u001b[0m \u001b[32m━━━━━━━━━━━━━━━━━━━━\u001b[0m\u001b[37m\u001b[0m \u001b[1m1s\u001b[0m 46ms/step - accuracy: 0.4892 - loss: -2095.9038 - precision_10: 0.7268 - recall_9: 0.9492 - val_accuracy: 0.4833 - val_loss: -1708.4674 - val_precision_10: 0.6000 - val_recall_9: 0.8750\n",
            "Epoch 21/50\n",
            "\u001b[1m15/15\u001b[0m \u001b[32m━━━━━━━━━━━━━━━━━━━━\u001b[0m\u001b[37m\u001b[0m \u001b[1m1s\u001b[0m 43ms/step - accuracy: 0.4654 - loss: -2984.1677 - precision_10: 0.7201 - recall_9: 0.9291 - val_accuracy: 0.4833 - val_loss: -2137.5569 - val_precision_10: 0.6000 - val_recall_9: 0.8750\n",
            "Epoch 22/50\n",
            "\u001b[1m15/15\u001b[0m \u001b[32m━━━━━━━━━━━━━━━━━━━━\u001b[0m\u001b[37m\u001b[0m \u001b[1m2s\u001b[0m 94ms/step - accuracy: 0.4946 - loss: -2765.4380 - precision_10: 0.6581 - recall_9: 0.9301 - val_accuracy: 0.4833 - val_loss: -2646.6367 - val_precision_10: 0.6000 - val_recall_9: 0.8750\n",
            "Epoch 23/50\n",
            "\u001b[1m15/15\u001b[0m \u001b[32m━━━━━━━━━━━━━━━━━━━━\u001b[0m\u001b[37m\u001b[0m \u001b[1m2s\u001b[0m 73ms/step - accuracy: 0.4287 - loss: -3367.0242 - precision_10: 0.6389 - recall_9: 0.8970 - val_accuracy: 0.4833 - val_loss: -3247.9209 - val_precision_10: 0.6000 - val_recall_9: 0.8750\n",
            "Epoch 24/50\n",
            "\u001b[1m15/15\u001b[0m \u001b[32m━━━━━━━━━━━━━━━━━━━━\u001b[0m\u001b[37m\u001b[0m \u001b[1m1s\u001b[0m 72ms/step - accuracy: 0.4003 - loss: -6232.2065 - precision_10: 0.6610 - recall_9: 0.8981 - val_accuracy: 0.4833 - val_loss: -3985.7542 - val_precision_10: 0.6000 - val_recall_9: 0.8750\n",
            "Epoch 25/50\n",
            "\u001b[1m15/15\u001b[0m \u001b[32m━━━━━━━━━━━━━━━━━━━━\u001b[0m\u001b[37m\u001b[0m \u001b[1m1s\u001b[0m 42ms/step - accuracy: 0.4536 - loss: -6178.3208 - precision_10: 0.6921 - recall_9: 0.9082 - val_accuracy: 0.4833 - val_loss: -4783.3574 - val_precision_10: 0.6000 - val_recall_9: 0.8750\n",
            "Epoch 26/50\n",
            "\u001b[1m15/15\u001b[0m \u001b[32m━━━━━━━━━━━━━━━━━━━━\u001b[0m\u001b[37m\u001b[0m \u001b[1m1s\u001b[0m 22ms/step - accuracy: 0.4368 - loss: -6294.8853 - precision_10: 0.6601 - recall_9: 0.9104 - val_accuracy: 0.5000 - val_loss: -5660.7705 - val_precision_10: 0.6176 - val_recall_9: 0.8750\n",
            "Epoch 27/50\n",
            "\u001b[1m15/15\u001b[0m \u001b[32m━━━━━━━━━━━━━━━━━━━━\u001b[0m\u001b[37m\u001b[0m \u001b[1m1s\u001b[0m 20ms/step - accuracy: 0.4830 - loss: -10099.1416 - precision_10: 0.7347 - recall_9: 0.9455 - val_accuracy: 0.5000 - val_loss: -6778.8687 - val_precision_10: 0.6176 - val_recall_9: 0.8750\n",
            "Epoch 28/50\n",
            "\u001b[1m15/15\u001b[0m \u001b[32m━━━━━━━━━━━━━━━━━━━━\u001b[0m\u001b[37m\u001b[0m \u001b[1m0s\u001b[0m 24ms/step - accuracy: 0.4569 - loss: -10314.2344 - precision_10: 0.6876 - recall_9: 0.9057 - val_accuracy: 0.5167 - val_loss: -7947.1797 - val_precision_10: 0.6364 - val_recall_9: 0.8750\n",
            "Epoch 29/50\n",
            "\u001b[1m15/15\u001b[0m \u001b[32m━━━━━━━━━━━━━━━━━━━━\u001b[0m\u001b[37m\u001b[0m \u001b[1m0s\u001b[0m 8ms/step - accuracy: 0.4731 - loss: -10224.9395 - precision_10: 0.6706 - recall_9: 0.8942 - val_accuracy: 0.5167 - val_loss: -9215.4287 - val_precision_10: 0.6364 - val_recall_9: 0.8750\n",
            "Epoch 30/50\n",
            "\u001b[1m15/15\u001b[0m \u001b[32m━━━━━━━━━━━━━━━━━━━━\u001b[0m\u001b[37m\u001b[0m \u001b[1m0s\u001b[0m 8ms/step - accuracy: 0.5222 - loss: -14868.3896 - precision_10: 0.7312 - recall_9: 0.9691 - val_accuracy: 0.5333 - val_loss: -10674.9277 - val_precision_10: 0.6562 - val_recall_9: 0.8750\n",
            "Epoch 31/50\n",
            "\u001b[1m15/15\u001b[0m \u001b[32m━━━━━━━━━━━━━━━━━━━━\u001b[0m\u001b[37m\u001b[0m \u001b[1m0s\u001b[0m 10ms/step - accuracy: 0.4965 - loss: -16985.3047 - precision_10: 0.7498 - recall_9: 0.8929 - val_accuracy: 0.5500 - val_loss: -12369.3848 - val_precision_10: 0.6774 - val_recall_9: 0.8750\n",
            "Epoch 32/50\n",
            "\u001b[1m15/15\u001b[0m \u001b[32m━━━━━━━━━━━━━━━━━━━━\u001b[0m\u001b[37m\u001b[0m \u001b[1m0s\u001b[0m 8ms/step - accuracy: 0.5187 - loss: -16454.1680 - precision_10: 0.7002 - recall_9: 0.9210 - val_accuracy: 0.5500 - val_loss: -13995.0684 - val_precision_10: 0.6774 - val_recall_9: 0.8750\n",
            "Epoch 33/50\n",
            "\u001b[1m15/15\u001b[0m \u001b[32m━━━━━━━━━━━━━━━━━━━━\u001b[0m\u001b[37m\u001b[0m \u001b[1m0s\u001b[0m 8ms/step - accuracy: 0.5003 - loss: -25392.8711 - precision_10: 0.7287 - recall_9: 0.9106 - val_accuracy: 0.5500 - val_loss: -16097.2275 - val_precision_10: 0.6774 - val_recall_9: 0.8750\n",
            "Epoch 34/50\n",
            "\u001b[1m15/15\u001b[0m \u001b[32m━━━━━━━━━━━━━━━━━━━━\u001b[0m\u001b[37m\u001b[0m \u001b[1m0s\u001b[0m 8ms/step - accuracy: 0.5223 - loss: -24387.1270 - precision_10: 0.7523 - recall_9: 0.9377 - val_accuracy: 0.5500 - val_loss: -18071.6211 - val_precision_10: 0.6774 - val_recall_9: 0.8750\n",
            "Epoch 35/50\n",
            "\u001b[1m15/15\u001b[0m \u001b[32m━━━━━━━━━━━━━━━━━━━━\u001b[0m\u001b[37m\u001b[0m \u001b[1m0s\u001b[0m 8ms/step - accuracy: 0.4421 - loss: -33631.4219 - precision_10: 0.7237 - recall_9: 0.9173 - val_accuracy: 0.5333 - val_loss: -20462.4980 - val_precision_10: 0.6667 - val_recall_9: 0.8333\n",
            "Epoch 36/50\n",
            "\u001b[1m15/15\u001b[0m \u001b[32m━━━━━━━━━━━━━━━━━━━━\u001b[0m\u001b[37m\u001b[0m \u001b[1m0s\u001b[0m 8ms/step - accuracy: 0.5456 - loss: -28709.1191 - precision_10: 0.7603 - recall_9: 0.9139 - val_accuracy: 0.5333 - val_loss: -22881.8516 - val_precision_10: 0.6667 - val_recall_9: 0.8333\n",
            "Epoch 37/50\n",
            "\u001b[1m15/15\u001b[0m \u001b[32m━━━━━━━━━━━━━━━━━━━━\u001b[0m\u001b[37m\u001b[0m \u001b[1m0s\u001b[0m 8ms/step - accuracy: 0.5349 - loss: -27510.1777 - precision_10: 0.6856 - recall_9: 0.8958 - val_accuracy: 0.5333 - val_loss: -25570.3535 - val_precision_10: 0.6667 - val_recall_9: 0.8333\n",
            "Epoch 38/50\n",
            "\u001b[1m15/15\u001b[0m \u001b[32m━━━━━━━━━━━━━━━━━━━━\u001b[0m\u001b[37m\u001b[0m \u001b[1m0s\u001b[0m 10ms/step - accuracy: 0.5034 - loss: -34752.4609 - precision_10: 0.7303 - recall_9: 0.9232 - val_accuracy: 0.5333 - val_loss: -28602.1367 - val_precision_10: 0.6786 - val_recall_9: 0.7917\n",
            "Epoch 39/50\n",
            "\u001b[1m15/15\u001b[0m \u001b[32m━━━━━━━━━━━━━━━━━━━━\u001b[0m\u001b[37m\u001b[0m \u001b[1m0s\u001b[0m 8ms/step - accuracy: 0.4829 - loss: -41279.8711 - precision_10: 0.7241 - recall_9: 0.9197 - val_accuracy: 0.5333 - val_loss: -31656.1172 - val_precision_10: 0.6786 - val_recall_9: 0.7917\n",
            "Epoch 40/50\n",
            "\u001b[1m15/15\u001b[0m \u001b[32m━━━━━━━━━━━━━━━━━━━━\u001b[0m\u001b[37m\u001b[0m \u001b[1m0s\u001b[0m 8ms/step - accuracy: 0.4501 - loss: -49080.4570 - precision_10: 0.6753 - recall_9: 0.8611 - val_accuracy: 0.5333 - val_loss: -35233.6094 - val_precision_10: 0.6786 - val_recall_9: 0.7917\n",
            "Epoch 41/50\n",
            "\u001b[1m15/15\u001b[0m \u001b[32m━━━━━━━━━━━━━━━━━━━━\u001b[0m\u001b[37m\u001b[0m \u001b[1m0s\u001b[0m 8ms/step - accuracy: 0.5019 - loss: -52156.0820 - precision_10: 0.7312 - recall_9: 0.9234 - val_accuracy: 0.5333 - val_loss: -38965.5977 - val_precision_10: 0.6786 - val_recall_9: 0.7917\n",
            "Epoch 42/50\n",
            "\u001b[1m15/15\u001b[0m \u001b[32m━━━━━━━━━━━━━━━━━━━━\u001b[0m\u001b[37m\u001b[0m \u001b[1m0s\u001b[0m 8ms/step - accuracy: 0.5012 - loss: -59577.4805 - precision_10: 0.7620 - recall_9: 0.8965 - val_accuracy: 0.5333 - val_loss: -43055.3477 - val_precision_10: 0.6786 - val_recall_9: 0.7917\n",
            "Epoch 43/50\n",
            "\u001b[1m15/15\u001b[0m \u001b[32m━━━━━━━━━━━━━━━━━━━━\u001b[0m\u001b[37m\u001b[0m \u001b[1m0s\u001b[0m 9ms/step - accuracy: 0.5287 - loss: -65615.3828 - precision_10: 0.7327 - recall_9: 0.8928 - val_accuracy: 0.5333 - val_loss: -47375.0469 - val_precision_10: 0.6786 - val_recall_9: 0.7917\n",
            "Epoch 44/50\n",
            "\u001b[1m15/15\u001b[0m \u001b[32m━━━━━━━━━━━━━━━━━━━━\u001b[0m\u001b[37m\u001b[0m \u001b[1m0s\u001b[0m 8ms/step - accuracy: 0.4892 - loss: -70885.8594 - precision_10: 0.7251 - recall_9: 0.8915 - val_accuracy: 0.5333 - val_loss: -52156.1953 - val_precision_10: 0.6786 - val_recall_9: 0.7917\n",
            "Epoch 45/50\n",
            "\u001b[1m15/15\u001b[0m \u001b[32m━━━━━━━━━━━━━━━━━━━━\u001b[0m\u001b[37m\u001b[0m \u001b[1m0s\u001b[0m 8ms/step - accuracy: 0.4768 - loss: -70620.8438 - precision_10: 0.6628 - recall_9: 0.8578 - val_accuracy: 0.5333 - val_loss: -56893.0781 - val_precision_10: 0.6786 - val_recall_9: 0.7917\n",
            "Epoch 46/50\n",
            "\u001b[1m15/15\u001b[0m \u001b[32m━━━━━━━━━━━━━━━━━━━━\u001b[0m\u001b[37m\u001b[0m \u001b[1m0s\u001b[0m 8ms/step - accuracy: 0.4890 - loss: -79761.6094 - precision_10: 0.7029 - recall_9: 0.8639 - val_accuracy: 0.5333 - val_loss: -62257.2930 - val_precision_10: 0.6786 - val_recall_9: 0.7917\n",
            "Epoch 47/50\n",
            "\u001b[1m15/15\u001b[0m \u001b[32m━━━━━━━━━━━━━━━━━━━━\u001b[0m\u001b[37m\u001b[0m \u001b[1m0s\u001b[0m 8ms/step - accuracy: 0.5442 - loss: -72300.9141 - precision_10: 0.7388 - recall_9: 0.8996 - val_accuracy: 0.5333 - val_loss: -67670.7812 - val_precision_10: 0.6786 - val_recall_9: 0.7917\n",
            "Epoch 48/50\n",
            "\u001b[1m15/15\u001b[0m \u001b[32m━━━━━━━━━━━━━━━━━━━━\u001b[0m\u001b[37m\u001b[0m \u001b[1m0s\u001b[0m 8ms/step - accuracy: 0.4940 - loss: -89528.4531 - precision_10: 0.7149 - recall_9: 0.8995 - val_accuracy: 0.5333 - val_loss: -73798.8672 - val_precision_10: 0.6786 - val_recall_9: 0.7917\n",
            "Epoch 49/50\n",
            "\u001b[1m15/15\u001b[0m \u001b[32m━━━━━━━━━━━━━━━━━━━━\u001b[0m\u001b[37m\u001b[0m \u001b[1m0s\u001b[0m 8ms/step - accuracy: 0.5282 - loss: -102076.5859 - precision_10: 0.7393 - recall_9: 0.8994 - val_accuracy: 0.5333 - val_loss: -80449.6250 - val_precision_10: 0.6786 - val_recall_9: 0.7917\n",
            "Epoch 50/50\n",
            "\u001b[1m15/15\u001b[0m \u001b[32m━━━━━━━━━━━━━━━━━━━━\u001b[0m\u001b[37m\u001b[0m \u001b[1m0s\u001b[0m 8ms/step - accuracy: 0.4743 - loss: -141137.4531 - precision_10: 0.7357 - recall_9: 0.9132 - val_accuracy: 0.5333 - val_loss: -87708.3047 - val_precision_10: 0.6786 - val_recall_9: 0.7917\n"
          ]
        }
      ]
    },
    {
      "cell_type": "code",
      "source": [
        "plt.plot(history.history['loss'], label = 'Training Loss')\n",
        "plt.plot(history.history['val_loss'], label = 'Validation Loss')\n",
        "plt.xlabel('Epochs')\n",
        "plt.ylabel('Loss')\n",
        "plt.title('Loss Curve')\n",
        "plt.legend()\n",
        "plt.grid()\n",
        "plt.show()"
      ],
      "metadata": {
        "colab": {
          "base_uri": "https://localhost:8080/",
          "height": 472
        },
        "id": "uqBbZaqGN1P4",
        "outputId": "67aa4b31-8dee-4423-88b5-6ecc6d3a9d7f"
      },
      "execution_count": 183,
      "outputs": [
        {
          "output_type": "display_data",
          "data": {
            "text/plain": [
              "<Figure size 640x480 with 1 Axes>"
            ],
            "image/png": "[encoded data removed]"
          },
          "metadata": {}
        }
      ]
    },
    {
      "cell_type": "markdown",
      "source": [
        "This shows that the models experience and continued decline, impllying the overfitting of the model with the `train` data. Being divergent implies that the model failed to reach an optimal point."
      ],
      "metadata": {
        "id": "p2g1dkGkWPgP"
      }
    },
    {
      "cell_type": "code",
      "source": [
        "Y_pred = (model.predict(X_test) > 0.5).astype(\"int32\")\n",
        "\n",
        "accuracy = accuracy_score(Y_test,\n",
        "                          Y_pred)\n",
        "precision = precision_score(Y_test,\n",
        "                            Y_pred,\n",
        "                            average = 'macro')\n",
        "recall = recall_score(Y_test,\n",
        "                      Y_pred,\n",
        "                      average = 'macro')\n",
        "\n",
        "print(f\"Accuracy: {accuracy:.4f}\")\n",
        "print(f\"Precision: {precision:.4f}\")\n",
        "print(f\"Recall: {recall:.4f}\")"
      ],
      "metadata": {
        "colab": {
          "base_uri": "https://localhost:8080/"
        },
        "id": "Q5gOXfl3LoRZ",
        "outputId": "d7d3ec19-35b1-4802-f8c1-fa79281747d0"
      },
      "execution_count": 184,
      "outputs": [
        {
          "output_type": "stream",
          "name": "stdout",
          "text": [
            "\u001b[1m2/2\u001b[0m \u001b[32m━━━━━━━━━━━━━━━━━━━━\u001b[0m\u001b[37m\u001b[0m \u001b[1m0s\u001b[0m 71ms/step\n",
            "Accuracy: 0.5333\n",
            "Precision: 0.2556\n",
            "Recall: 0.3125\n"
          ]
        },
        {
          "output_type": "stream",
          "name": "stderr",
          "text": [
            "/usr/local/lib/python3.11/dist-packages/sklearn/metrics/_classification.py:1565: UndefinedMetricWarning: Precision is ill-defined and being set to 0.0 in labels with no predicted samples. Use `zero_division` parameter to control this behavior.\n",
            "  _warn_prf(average, modifier, f\"{metric.capitalize()} is\", len(result))\n"
          ]
        }
      ]
    },
    {
      "cell_type": "markdown",
      "source": [
        "## **Accuracy: $53.33\\%$** - This indicates that the model was able to predict half of the time.  \n",
        "\n",
        "## **Precision: $25.56\\%$** - This indicates that 1/4 of the predicted positives are true positive, while 3/4 are false positives.\n",
        "\n",
        "## **Recall: $31.25\\%$** - This indicates that out of all the supposed positive values, only 1/3 is correctly labeled as positive, while 2/3 are flagged negative (false negative)."
      ],
      "metadata": {
        "id": "mPTyi0ukWpND"
      }
    },
    {
      "cell_type": "markdown",
      "source": [
        "Meanwhile, both are promising models and tools for predictions, MLP are mainly used for tabular predictions, while CNNs will perform best if image input is needed. CNN models can be useful if the basis for prediction will be CAT scans, or cardiograms, etc.\n",
        "\n",
        "MLP are the best models to use if the data concerns numerical and categorical targets only using alphanumeric values."
      ],
      "metadata": {
        "id": "cLb3mhkxXmA5"
      }
    }
  ]
}